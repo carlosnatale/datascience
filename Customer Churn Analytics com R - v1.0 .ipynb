{
 "cells": [
  {
   "cell_type": "markdown",
   "metadata": {},
   "source": [
    "# Customer Churn Analytics \n",
    "\n",
    "A rotatividade (churn) de clientes ocorre quando clientes ou assinantes param de fazer negócios com uma empresa ou serviço. Também é conhecido como perda de clientes ou taxa de cancelamento.\n",
    "\n",
    "Um setor no qual saber e prever as taxas de cancelamento é particularmente útil é o setor de telecomunicações, porque a maioria dos clientes tem várias opções de escolha dentro de uma localização geográfica.\n",
    "\n",
    "Neste projeto, vamos prever a rotatividade (churn) de clientes usando um conjunto de dados de telecomunicações. \n",
    "\n",
    "Usaremos a regressão logística, a árvore de decisão e a floresta aleatória como modelos de Machine Learning. \n",
    "\n",
    "Usaremos um dataset oferecido gratuitamente no portal IBM Sample Data Sets. \n",
    "\n",
    "Cada linha representa um cliente e cada coluna contém os atributos desse cliente.\n",
    "\n",
    "https://www.ibm.com/communities/analytics/watson-analytics-blog/guide-to-sample-datasets/"
   ]
  },
  {
   "cell_type": "code",
   "execution_count": 10,
   "metadata": {},
   "outputs": [
    {
     "data": {
      "text/html": [
       "'C:/Users/chnat/Google Drive/00_DATASCIENCE/FCD/04_BigDataRAzure/cap06'"
      ],
      "text/latex": [
       "'C:/Users/chnat/Google Drive/00\\_DATASCIENCE/FCD/04\\_BigDataRAzure/cap06'"
      ],
      "text/markdown": [
       "'C:/Users/chnat/Google Drive/00_DATASCIENCE/FCD/04_BigDataRAzure/cap06'"
      ],
      "text/plain": [
       "[1] \"C:/Users/chnat/Google Drive/00_DATASCIENCE/FCD/04_BigDataRAzure/cap06\""
      ]
     },
     "metadata": {},
     "output_type": "display_data"
    }
   ],
   "source": [
    "# Definindo o diretório de trabalho\n",
    "setwd(\"C:\\\\Users\\\\chnat\\\\Google Drive\\\\00_DATASCIENCE\\\\FCD\\\\04_BigDataRAzure\\\\cap06\")\n",
    "getwd()"
   ]
  },
  {
   "cell_type": "code",
   "execution_count": 11,
   "metadata": {},
   "outputs": [],
   "source": [
    "# Carregando os pacotes\n",
    "library(plyr)\n",
    "library(corrplot)\n",
    "library(ggplot2)\n",
    "library(gridExtra)\n",
    "library(ggthemes)\n",
    "library(caret)\n",
    "library(MASS)\n",
    "library(randomForest)\n",
    "library(party)\n",
    "library(dplyr)"
   ]
  },
  {
   "cell_type": "markdown",
   "metadata": {},
   "source": [
    "##### Carregando e Limpando os Dados ##### "
   ]
  },
  {
   "cell_type": "code",
   "execution_count": 12,
   "metadata": {},
   "outputs": [
    {
     "name": "stdout",
     "output_type": "stream",
     "text": [
      "'data.frame':\t7043 obs. of  21 variables:\n",
      " $ customerID      : Factor w/ 7043 levels \"0002-ORFBO\",\"0003-MKNFE\",..: 5376 3963 2565 5536 6512 6552 1003 4771 5605 4535 ...\n",
      " $ gender          : Factor w/ 2 levels \"Female\",\"Male\": 1 2 2 2 1 1 2 1 1 2 ...\n",
      " $ SeniorCitizen   : int  0 0 0 0 0 0 0 0 0 0 ...\n",
      " $ Partner         : Factor w/ 2 levels \"No\",\"Yes\": 2 1 1 1 1 1 1 1 2 1 ...\n",
      " $ Dependents      : Factor w/ 2 levels \"No\",\"Yes\": 1 1 1 1 1 1 2 1 1 2 ...\n",
      " $ tenure          : int  1 34 2 45 2 8 22 10 28 62 ...\n",
      " $ PhoneService    : Factor w/ 2 levels \"No\",\"Yes\": 1 2 2 1 2 2 2 1 2 2 ...\n",
      " $ MultipleLines   : Factor w/ 3 levels \"No\",\"No phone service\",..: 2 1 1 2 1 3 3 2 3 1 ...\n",
      " $ InternetService : Factor w/ 3 levels \"DSL\",\"Fiber optic\",..: 1 1 1 1 2 2 2 1 2 1 ...\n",
      " $ OnlineSecurity  : Factor w/ 3 levels \"No\",\"No internet service\",..: 1 3 3 3 1 1 1 3 1 3 ...\n",
      " $ OnlineBackup    : Factor w/ 3 levels \"No\",\"No internet service\",..: 3 1 3 1 1 1 3 1 1 3 ...\n",
      " $ DeviceProtection: Factor w/ 3 levels \"No\",\"No internet service\",..: 1 3 1 3 1 3 1 1 3 1 ...\n",
      " $ TechSupport     : Factor w/ 3 levels \"No\",\"No internet service\",..: 1 1 1 3 1 1 1 1 3 1 ...\n",
      " $ StreamingTV     : Factor w/ 3 levels \"No\",\"No internet service\",..: 1 1 1 1 1 3 3 1 3 1 ...\n",
      " $ StreamingMovies : Factor w/ 3 levels \"No\",\"No internet service\",..: 1 1 1 1 1 3 1 1 3 1 ...\n",
      " $ Contract        : Factor w/ 3 levels \"Month-to-month\",..: 1 2 1 2 1 1 1 1 1 2 ...\n",
      " $ PaperlessBilling: Factor w/ 2 levels \"No\",\"Yes\": 2 1 2 1 2 2 2 1 2 1 ...\n",
      " $ PaymentMethod   : Factor w/ 4 levels \"Bank transfer (automatic)\",..: 3 4 4 1 3 3 2 4 3 1 ...\n",
      " $ MonthlyCharges  : num  29.9 57 53.9 42.3 70.7 ...\n",
      " $ TotalCharges    : num  29.9 1889.5 108.2 1840.8 151.7 ...\n",
      " $ Churn           : Factor w/ 2 levels \"No\",\"Yes\": 1 1 2 1 2 2 1 1 2 1 ...\n"
     ]
    }
   ],
   "source": [
    "# Os dados brutos contêm 7043 linhas (clientes) e 21 colunas (recursos). \n",
    "# A coluna \"Churn\" é o nosso alvo.\n",
    "churn <- read.csv('Telco-Customer-Churn.csv', stringsAsFactors=TRUE)\n",
    "str(churn)"
   ]
  },
  {
   "cell_type": "code",
   "execution_count": 13,
   "metadata": {},
   "outputs": [
    {
     "data": {
      "text/html": [
       "<dl class=dl-horizontal>\n",
       "\t<dt>customerID</dt>\n",
       "\t\t<dd>0</dd>\n",
       "\t<dt>gender</dt>\n",
       "\t\t<dd>0</dd>\n",
       "\t<dt>SeniorCitizen</dt>\n",
       "\t\t<dd>0</dd>\n",
       "\t<dt>Partner</dt>\n",
       "\t\t<dd>0</dd>\n",
       "\t<dt>Dependents</dt>\n",
       "\t\t<dd>0</dd>\n",
       "\t<dt>tenure</dt>\n",
       "\t\t<dd>0</dd>\n",
       "\t<dt>PhoneService</dt>\n",
       "\t\t<dd>0</dd>\n",
       "\t<dt>MultipleLines</dt>\n",
       "\t\t<dd>0</dd>\n",
       "\t<dt>InternetService</dt>\n",
       "\t\t<dd>0</dd>\n",
       "\t<dt>OnlineSecurity</dt>\n",
       "\t\t<dd>0</dd>\n",
       "\t<dt>OnlineBackup</dt>\n",
       "\t\t<dd>0</dd>\n",
       "\t<dt>DeviceProtection</dt>\n",
       "\t\t<dd>0</dd>\n",
       "\t<dt>TechSupport</dt>\n",
       "\t\t<dd>0</dd>\n",
       "\t<dt>StreamingTV</dt>\n",
       "\t\t<dd>0</dd>\n",
       "\t<dt>StreamingMovies</dt>\n",
       "\t\t<dd>0</dd>\n",
       "\t<dt>Contract</dt>\n",
       "\t\t<dd>0</dd>\n",
       "\t<dt>PaperlessBilling</dt>\n",
       "\t\t<dd>0</dd>\n",
       "\t<dt>PaymentMethod</dt>\n",
       "\t\t<dd>0</dd>\n",
       "\t<dt>MonthlyCharges</dt>\n",
       "\t\t<dd>0</dd>\n",
       "\t<dt>TotalCharges</dt>\n",
       "\t\t<dd>11</dd>\n",
       "\t<dt>Churn</dt>\n",
       "\t\t<dd>0</dd>\n",
       "</dl>\n"
      ],
      "text/latex": [
       "\\begin{description*}\n",
       "\\item[customerID] 0\n",
       "\\item[gender] 0\n",
       "\\item[SeniorCitizen] 0\n",
       "\\item[Partner] 0\n",
       "\\item[Dependents] 0\n",
       "\\item[tenure] 0\n",
       "\\item[PhoneService] 0\n",
       "\\item[MultipleLines] 0\n",
       "\\item[InternetService] 0\n",
       "\\item[OnlineSecurity] 0\n",
       "\\item[OnlineBackup] 0\n",
       "\\item[DeviceProtection] 0\n",
       "\\item[TechSupport] 0\n",
       "\\item[StreamingTV] 0\n",
       "\\item[StreamingMovies] 0\n",
       "\\item[Contract] 0\n",
       "\\item[PaperlessBilling] 0\n",
       "\\item[PaymentMethod] 0\n",
       "\\item[MonthlyCharges] 0\n",
       "\\item[TotalCharges] 11\n",
       "\\item[Churn] 0\n",
       "\\end{description*}\n"
      ],
      "text/markdown": [
       "customerID\n",
       ":   0gender\n",
       ":   0SeniorCitizen\n",
       ":   0Partner\n",
       ":   0Dependents\n",
       ":   0tenure\n",
       ":   0PhoneService\n",
       ":   0MultipleLines\n",
       ":   0InternetService\n",
       ":   0OnlineSecurity\n",
       ":   0OnlineBackup\n",
       ":   0DeviceProtection\n",
       ":   0TechSupport\n",
       ":   0StreamingTV\n",
       ":   0StreamingMovies\n",
       ":   0Contract\n",
       ":   0PaperlessBilling\n",
       ":   0PaymentMethod\n",
       ":   0MonthlyCharges\n",
       ":   0TotalCharges\n",
       ":   11Churn\n",
       ":   0\n",
       "\n"
      ],
      "text/plain": [
       "      customerID           gender    SeniorCitizen          Partner \n",
       "               0                0                0                0 \n",
       "      Dependents           tenure     PhoneService    MultipleLines \n",
       "               0                0                0                0 \n",
       " InternetService   OnlineSecurity     OnlineBackup DeviceProtection \n",
       "               0                0                0                0 \n",
       "     TechSupport      StreamingTV  StreamingMovies         Contract \n",
       "               0                0                0                0 \n",
       "PaperlessBilling    PaymentMethod   MonthlyCharges     TotalCharges \n",
       "               0                0                0               11 \n",
       "           Churn \n",
       "               0 "
      ]
     },
     "metadata": {},
     "output_type": "display_data"
    }
   ],
   "source": [
    "# Usamos sapply para verificar o número de valores ausentes (missing) em cada coluna. \n",
    "# Descobrimos que há 11 valores ausentes nas colunas \"TotalCharges\". \n",
    "# Então, vamos remover todas as linhas com valores ausentes.\n",
    "sapply(churn, function(x) sum(is.na(x)))\n",
    "churn <- churn[complete.cases(churn), ]"
   ]
  },
  {
   "cell_type": "markdown",
   "metadata": {},
   "source": [
    "# Olhe para as variáveis, podemos ver que temos algumas limpezas e ajustes para fazer."
   ]
  },
  {
   "cell_type": "code",
   "execution_count": 14,
   "metadata": {},
   "outputs": [
    {
     "name": "stdout",
     "output_type": "stream",
     "text": [
      "'data.frame':\t7032 obs. of  21 variables:\n",
      " $ customerID      : Factor w/ 7043 levels \"0002-ORFBO\",\"0003-MKNFE\",..: 5376 3963 2565 5536 6512 6552 1003 4771 5605 4535 ...\n",
      " $ gender          : Factor w/ 2 levels \"Female\",\"Male\": 1 2 2 2 1 1 2 1 1 2 ...\n",
      " $ SeniorCitizen   : int  0 0 0 0 0 0 0 0 0 0 ...\n",
      " $ Partner         : Factor w/ 2 levels \"No\",\"Yes\": 2 1 1 1 1 1 1 1 2 1 ...\n",
      " $ Dependents      : Factor w/ 2 levels \"No\",\"Yes\": 1 1 1 1 1 1 2 1 1 2 ...\n",
      " $ tenure          : int  1 34 2 45 2 8 22 10 28 62 ...\n",
      " $ PhoneService    : Factor w/ 2 levels \"No\",\"Yes\": 1 2 2 1 2 2 2 1 2 2 ...\n",
      " $ MultipleLines   : Factor w/ 3 levels \"No\",\"No phone service\",..: 2 1 1 2 1 3 3 2 3 1 ...\n",
      " $ InternetService : Factor w/ 3 levels \"DSL\",\"Fiber optic\",..: 1 1 1 1 2 2 2 1 2 1 ...\n",
      " $ OnlineSecurity  : Factor w/ 3 levels \"No\",\"No internet service\",..: 1 3 3 3 1 1 1 3 1 3 ...\n",
      " $ OnlineBackup    : Factor w/ 3 levels \"No\",\"No internet service\",..: 3 1 3 1 1 1 3 1 1 3 ...\n",
      " $ DeviceProtection: Factor w/ 3 levels \"No\",\"No internet service\",..: 1 3 1 3 1 3 1 1 3 1 ...\n",
      " $ TechSupport     : Factor w/ 3 levels \"No\",\"No internet service\",..: 1 1 1 3 1 1 1 1 3 1 ...\n",
      " $ StreamingTV     : Factor w/ 3 levels \"No\",\"No internet service\",..: 1 1 1 1 1 3 3 1 3 1 ...\n",
      " $ StreamingMovies : Factor w/ 3 levels \"No\",\"No internet service\",..: 1 1 1 1 1 3 1 1 3 1 ...\n",
      " $ Contract        : Factor w/ 3 levels \"Month-to-month\",..: 1 2 1 2 1 1 1 1 1 2 ...\n",
      " $ PaperlessBilling: Factor w/ 2 levels \"No\",\"Yes\": 2 1 2 1 2 2 2 1 2 1 ...\n",
      " $ PaymentMethod   : Factor w/ 4 levels \"Bank transfer (automatic)\",..: 3 4 4 1 3 3 2 4 3 1 ...\n",
      " $ MonthlyCharges  : num  29.9 57 53.9 42.3 70.7 ...\n",
      " $ TotalCharges    : num  29.9 1889.5 108.2 1840.8 151.7 ...\n",
      " $ Churn           : Factor w/ 2 levels \"No\",\"Yes\": 1 1 2 1 2 2 1 1 2 1 ...\n"
     ]
    }
   ],
   "source": [
    "# 1. Vamos mudar \"No internet service\" para \"No\" por seis colunas, que são: \n",
    "# \"OnlineSecurity\", \"OnlineBackup\", \"DeviceProtection\", \"TechSupport\", \"streamingTV\", \n",
    "# \"streamingMovies\".\n",
    "str(churn)\n",
    "cols_recode1 <- c(10:15)\n",
    "for(i in 1:ncol(churn[,cols_recode1])) {\n",
    "  churn[,cols_recode1][,i] <- as.factor(mapvalues\n",
    "                                        (churn[,cols_recode1][,i], from =c(\"No internet service\"),to=c(\"No\")))\n",
    "}"
   ]
  },
  {
   "cell_type": "code",
   "execution_count": 15,
   "metadata": {},
   "outputs": [],
   "source": [
    "# 2. Vamos mudar \"No phone service\" para \"No\" para a coluna \"MultipleLines\"\n",
    "churn$MultipleLines <- as.factor(mapvalues(churn$MultipleLines, \n",
    "                                           from=c(\"No phone service\"),\n",
    "                                           to=c(\"No\")))"
   ]
  },
  {
   "cell_type": "code",
   "execution_count": 16,
   "metadata": {},
   "outputs": [
    {
     "data": {
      "text/html": [
       "1"
      ],
      "text/latex": [
       "1"
      ],
      "text/markdown": [
       "1"
      ],
      "text/plain": [
       "[1] 1"
      ]
     },
     "metadata": {},
     "output_type": "display_data"
    },
    {
     "data": {
      "text/html": [
       "72"
      ],
      "text/latex": [
       "72"
      ],
      "text/markdown": [
       "72"
      ],
      "text/plain": [
       "[1] 72"
      ]
     },
     "metadata": {},
     "output_type": "display_data"
    }
   ],
   "source": [
    "# 3. Como a permanência mínima é de 1 mês e a permanência máxima é de 72 meses, \n",
    "# podemos agrupá-los em cinco grupos de posse (tenure): \n",
    "# \"0-12 Mês\", \"12-24 Mês\", \"24-48 Meses\", \"48-60 Mês\" Mês \",\"> 60 Mês\"\n",
    "min(churn$tenure); max(churn$tenure)\n",
    "\n",
    "group_tenure <- function(tenure){\n",
    "  if (tenure >= 0 & tenure <= 12){\n",
    "    return('0-12 Month')\n",
    "  }else if(tenure > 12 & tenure <= 24){\n",
    "    return('12-24 Month')\n",
    "  }else if (tenure > 24 & tenure <= 48){\n",
    "    return('24-48 Month')\n",
    "  }else if (tenure > 48 & tenure <=60){\n",
    "    return('48-60 Month')\n",
    "  }else if (tenure > 60){\n",
    "    return('> 60 Month')\n",
    "  }\n",
    "}\n",
    "\n",
    "churn$tenure_group <- sapply(churn$tenure,group_tenure)\n",
    "churn$tenure_group <- as.factor(churn$tenure_group)"
   ]
  },
  {
   "cell_type": "code",
   "execution_count": 17,
   "metadata": {},
   "outputs": [],
   "source": [
    "# 4. Alteramos os valores na coluna \"SeniorCitizen\" de 0 ou 1 para \"No\" ou \"Yes\".\n",
    "churn$SeniorCitizen <- as.factor(mapvalues(churn$SeniorCitizen,\n",
    "                                           from=c(\"0\",\"1\"),\n",
    "                                           to=c(\"No\", \"Yes\")))"
   ]
  },
  {
   "cell_type": "code",
   "execution_count": 18,
   "metadata": {},
   "outputs": [],
   "source": [
    "# 5. Removemos as colunas que não precisamos para a análise.\n",
    "churn$customerID <- NULL\n",
    "churn$tenure <- NULL"
   ]
  },
  {
   "cell_type": "markdown",
   "metadata": {},
   "source": [
    "##### Análise exploratória de dados e seleção de recursos ##### "
   ]
  },
  {
   "cell_type": "code",
   "execution_count": 19,
   "metadata": {},
   "outputs": [
    {
     "data": {
      "image/png": "[encoded data removed]",
      "text/plain": [
       "Plot with title \"\n",
       "\n",
       "Gráfico de Correlação para Variáveis Numéricas\""
      ]
     },
     "metadata": {},
     "output_type": "display_data"
    }
   ],
   "source": [
    "# Correlação entre variáveis numéricas\n",
    "numeric.var <- sapply(churn, is.numeric)\n",
    "corr.matrix <- cor(churn[,numeric.var])\n",
    "corrplot(corr.matrix, main=\"\\n\\nGráfico de Correlação para Variáveis Numéricas\", method=\"number\")"
   ]
  },
  {
   "cell_type": "code",
   "execution_count": 20,
   "metadata": {},
   "outputs": [],
   "source": [
    "# Os encargos mensais e os encargos totais estão correlacionados. \n",
    "# Então, um deles será removido do modelo. Nós removemos Total Charges.\n",
    "churn$TotalCharges <- NULL"
   ]
  },
  {
   "cell_type": "code",
   "execution_count": 21,
   "metadata": {},
   "outputs": [
    {
     "data": {
      "image/png": "[encoded data removed]",
      "text/plain": [
       "plot without title"
      ]
     },
     "metadata": {},
     "output_type": "display_data"
    },
    {
     "data": {
      "image/png": "[encoded data removed]",
      "text/plain": [
       "plot without title"
      ]
     },
     "metadata": {},
     "output_type": "display_data"
    },
    {
     "data": {
      "image/png": "[encoded data removed]",
      "text/plain": [
       "plot without title"
      ]
     },
     "metadata": {},
     "output_type": "display_data"
    },
    {
     "data": {
      "image/png": "[encoded data removed]",
      "text/plain": [
       "plot without title"
      ]
     },
     "metadata": {},
     "output_type": "display_data"
    }
   ],
   "source": [
    "# Gráficos de barra de variáveis categóricas\n",
    "p1 <- ggplot(churn, aes(x=gender)) + ggtitle(\"Gender\") + xlab(\"Sexo\") +\n",
    "  geom_bar(aes(y = 100*(..count..)/sum(..count..)), width = 0.5) + ylab(\"Percentual\") + coord_flip() + theme_minimal()\n",
    "p2 <- ggplot(churn, aes(x=SeniorCitizen)) + ggtitle(\"Senior Citizen\") + xlab(\"Senior Citizen\") + \n",
    "  geom_bar(aes(y = 100*(..count..)/sum(..count..)), width = 0.5) + ylab(\"Percentual\") + coord_flip() + theme_minimal()\n",
    "p3 <- ggplot(churn, aes(x=Partner)) + ggtitle(\"Partner\") + xlab(\"Parceiros\") + \n",
    "  geom_bar(aes(y = 100*(..count..)/sum(..count..)), width = 0.5) + ylab(\"Percentual\") + coord_flip() + theme_minimal()\n",
    "p4 <- ggplot(churn, aes(x=Dependents)) + ggtitle(\"Dependents\") + xlab(\"Dependentes\") +\n",
    "  geom_bar(aes(y = 100*(..count..)/sum(..count..)), width = 0.5) + ylab(\"Percentual\") + coord_flip() + theme_minimal()\n",
    "grid.arrange(p1, p2, p3, p4, ncol=2)\n",
    "\n",
    "\n",
    "p5 <- ggplot(churn, aes(x=PhoneService)) + ggtitle(\"Phone Service\") + xlab(\"Telefonia\") +\n",
    "  geom_bar(aes(y = 100*(..count..)/sum(..count..)), width = 0.5) + ylab(\"Percentual\") + coord_flip() + theme_minimal()\n",
    "p6 <- ggplot(churn, aes(x=MultipleLines)) + ggtitle(\"Multiple Lines\") + xlab(\"Múltiplas Linhas\") + \n",
    "  geom_bar(aes(y = 100*(..count..)/sum(..count..)), width = 0.5) + ylab(\"Percentual\") + coord_flip() + theme_minimal()\n",
    "p7 <- ggplot(churn, aes(x=InternetService)) + ggtitle(\"Internet Service\") + xlab(\"Internet Service\") + \n",
    "  geom_bar(aes(y = 100*(..count..)/sum(..count..)), width = 0.5) + ylab(\"Percentual\") + coord_flip() + theme_minimal()\n",
    "p8 <- ggplot(churn, aes(x=OnlineSecurity)) + ggtitle(\"Online Security\") + xlab(\"Online Security\") +\n",
    "  geom_bar(aes(y = 100*(..count..)/sum(..count..)), width = 0.5) + ylab(\"Percentual\") + coord_flip() + theme_minimal()\n",
    "grid.arrange(p5, p6, p7, p8, ncol=2)\n",
    "\n",
    "\n",
    "p9 <- ggplot(churn, aes(x=OnlineBackup)) + ggtitle(\"Online Backup\") + xlab(\"Online Backup\") +\n",
    "  geom_bar(aes(y = 100*(..count..)/sum(..count..)), width = 0.5) + ylab(\"Percentual\") + coord_flip() + theme_minimal()\n",
    "p10 <- ggplot(churn, aes(x=DeviceProtection)) + ggtitle(\"Device Protection\") + xlab(\"Device Protection\") + \n",
    "  geom_bar(aes(y = 100*(..count..)/sum(..count..)), width = 0.5) + ylab(\"Percentual\") + coord_flip() + theme_minimal()\n",
    "p11 <- ggplot(churn, aes(x=TechSupport)) + ggtitle(\"Tech Support\") + xlab(\"Tech Support\") + \n",
    "  geom_bar(aes(y = 100*(..count..)/sum(..count..)), width = 0.5) + ylab(\"Percentual\") + coord_flip() + theme_minimal()\n",
    "p12 <- ggplot(churn, aes(x=StreamingTV)) + ggtitle(\"Streaming TV\") + xlab(\"Streaming TV\") +\n",
    "  geom_bar(aes(y = 100*(..count..)/sum(..count..)), width = 0.5) + ylab(\"Percentual\") + coord_flip() + theme_minimal()\n",
    "grid.arrange(p9, p10, p11, p12, ncol=2)\n",
    "\n",
    "\n",
    "p13 <- ggplot(churn, aes(x=StreamingMovies)) + ggtitle(\"Streaming Movies\") + xlab(\"Streaming Movies\") +\n",
    "  geom_bar(aes(y = 100*(..count..)/sum(..count..)), width = 0.5) + ylab(\"Percentual\") + coord_flip() + theme_minimal()\n",
    "p14 <- ggplot(churn, aes(x=Contract)) + ggtitle(\"Contract\") + xlab(\"Contract\") + \n",
    "  geom_bar(aes(y = 100*(..count..)/sum(..count..)), width = 0.5) + ylab(\"Percentual\") + coord_flip() + theme_minimal()\n",
    "p15 <- ggplot(churn, aes(x=PaperlessBilling)) + ggtitle(\"Paperless Billing\") + xlab(\"Paperless Billing\") + \n",
    "  geom_bar(aes(y = 100*(..count..)/sum(..count..)), width = 0.5) + ylab(\"Percentual\") + coord_flip() + theme_minimal()\n",
    "p16 <- ggplot(churn, aes(x=PaymentMethod)) + ggtitle(\"Payment Method\") + xlab(\"Payment Method\") +\n",
    "  geom_bar(aes(y = 100*(..count..)/sum(..count..)), width = 0.5) + ylab(\"Percentual\") + coord_flip() + theme_minimal()\n",
    "p17 <- ggplot(churn, aes(x=tenure_group)) + ggtitle(\"Tenure Group\") + xlab(\"Tenure Group\") +\n",
    "  geom_bar(aes(y = 100*(..count..)/sum(..count..)), width = 0.5) + ylab(\"Percentual\") + coord_flip() + theme_minimal()\n",
    "grid.arrange(p13, p14, p15, p16, p17, ncol=2)"
   ]
  },
  {
   "cell_type": "code",
   "execution_count": 22,
   "metadata": {},
   "outputs": [],
   "source": [
    "# Todas as variáveis categóricas parecem ter uma distribuição razoavelmente ampla, \n",
    "# portanto, todas elas serão mantidas para análise posterior."
   ]
  },
  {
   "cell_type": "markdown",
   "metadata": {},
   "source": [
    "##### Modelagem Preditiva ##### "
   ]
  },
  {
   "cell_type": "markdown",
   "metadata": {},
   "source": [
    "# Regressão Logística"
   ]
  },
  {
   "cell_type": "code",
   "execution_count": 23,
   "metadata": {},
   "outputs": [],
   "source": [
    "# Primeiro, dividimos os dados em conjuntos de treinamento e testes\n",
    "intrain <- createDataPartition(churn$Churn,p=0.7,list=FALSE)\n",
    "training <- churn[intrain,]\n",
    "testing <- churn[-intrain,]"
   ]
  },
  {
   "cell_type": "code",
   "execution_count": 24,
   "metadata": {},
   "outputs": [
    {
     "data": {
      "text/html": [
       "<ol class=list-inline>\n",
       "\t<li>4924</li>\n",
       "\t<li>19</li>\n",
       "</ol>\n"
      ],
      "text/latex": [
       "\\begin{enumerate*}\n",
       "\\item 4924\n",
       "\\item 19\n",
       "\\end{enumerate*}\n"
      ],
      "text/markdown": [
       "1. 4924\n",
       "2. 19\n",
       "\n",
       "\n"
      ],
      "text/plain": [
       "[1] 4924   19"
      ]
     },
     "metadata": {},
     "output_type": "display_data"
    },
    {
     "data": {
      "text/html": [
       "<ol class=list-inline>\n",
       "\t<li>2108</li>\n",
       "\t<li>19</li>\n",
       "</ol>\n"
      ],
      "text/latex": [
       "\\begin{enumerate*}\n",
       "\\item 2108\n",
       "\\item 19\n",
       "\\end{enumerate*}\n"
      ],
      "text/markdown": [
       "1. 2108\n",
       "2. 19\n",
       "\n",
       "\n"
      ],
      "text/plain": [
       "[1] 2108   19"
      ]
     },
     "metadata": {},
     "output_type": "display_data"
    }
   ],
   "source": [
    "# Confirme se a divisão está correta\n",
    "dim(training); dim(testing)"
   ]
  },
  {
   "cell_type": "markdown",
   "metadata": {},
   "source": [
    "# Treinando o modelo de regressão logística\n"
   ]
  },
  {
   "cell_type": "code",
   "execution_count": 25,
   "metadata": {},
   "outputs": [
    {
     "name": "stdout",
     "output_type": "stream",
     "text": [
      "\n",
      "Call:\n",
      "glm(formula = Churn ~ ., family = binomial(link = \"logit\"), data = training)\n",
      "\n",
      "Deviance Residuals: \n",
      "    Min       1Q   Median       3Q      Max  \n",
      "-1.9601  -0.6632  -0.2783   0.6569   3.1320  \n",
      "\n",
      "Coefficients:\n",
      "                                      Estimate Std. Error z value Pr(>|z|)    \n",
      "(Intercept)                          -1.256926   1.006662  -1.249 0.211809    \n",
      "genderMale                            0.046692   0.078255   0.597 0.550735    \n",
      "SeniorCitizenYes                      0.214592   0.101597   2.112 0.034670 *  \n",
      "PartnerYes                           -0.080018   0.093478  -0.856 0.391993    \n",
      "DependentsYes                        -0.046023   0.107846  -0.427 0.669566    \n",
      "PhoneServiceYes                       0.048161   0.791403   0.061 0.951475    \n",
      "MultipleLinesYes                      0.434077   0.214374   2.025 0.042881 *  \n",
      "InternetServiceFiber optic            1.704714   0.971180   1.755 0.079208 .  \n",
      "InternetServiceNo                    -1.658063   0.983696  -1.686 0.091884 .  \n",
      "OnlineSecurityYes                    -0.258390   0.215763  -1.198 0.231089    \n",
      "OnlineBackupYes                      -0.007361   0.214473  -0.034 0.972619    \n",
      "DeviceProtectionYes                   0.070429   0.213903   0.329 0.741963    \n",
      "TechSupportYes                       -0.256590   0.219657  -1.168 0.242750    \n",
      "StreamingTVYes                        0.541070   0.398973   1.356 0.175049    \n",
      "StreamingMoviesYes                    0.581891   0.397620   1.463 0.143348    \n",
      "ContractOne year                     -0.745231   0.127909  -5.826 5.67e-09 ***\n",
      "ContractTwo year                     -1.636919   0.225207  -7.269 3.63e-13 ***\n",
      "PaperlessBillingYes                   0.335375   0.089657   3.741 0.000184 ***\n",
      "PaymentMethodCredit card (automatic) -0.138119   0.138650  -0.996 0.319168    \n",
      "PaymentMethodElectronic check         0.373233   0.113458   3.290 0.001003 ** \n",
      "PaymentMethodMailed check             0.076144   0.137301   0.555 0.579186    \n",
      "MonthlyCharges                       -0.030458   0.038653  -0.788 0.430709    \n",
      "tenure_group0-12 Month                1.820348   0.210864   8.633  < 2e-16 ***\n",
      "tenure_group12-24 Month               1.067613   0.205072   5.206 1.93e-07 ***\n",
      "tenure_group24-48 Month               0.501572   0.189283   2.650 0.008053 ** \n",
      "tenure_group48-60 Month               0.302886   0.204406   1.482 0.138397    \n",
      "---\n",
      "Signif. codes:  0 '***' 0.001 '**' 0.01 '*' 0.05 '.' 0.1 ' ' 1\n",
      "\n",
      "(Dispersion parameter for binomial family taken to be 1)\n",
      "\n",
      "    Null deviance: 5702.8  on 4923  degrees of freedom\n",
      "Residual deviance: 4034.2  on 4898  degrees of freedom\n",
      "AIC: 4086.2\n",
      "\n",
      "Number of Fisher Scoring iterations: 6\n",
      "\n"
     ]
    }
   ],
   "source": [
    "#Fitting do Modelo\n",
    "LogModel <- glm(Churn ~ ., family=binomial(link=\"logit\"), data=training)\n",
    "print(summary(LogModel))"
   ]
  },
  {
   "cell_type": "markdown",
   "metadata": {},
   "source": [
    "# Análise de Variância - ANOVA"
   ]
  },
  {
   "cell_type": "code",
   "execution_count": 26,
   "metadata": {},
   "outputs": [
    {
     "data": {
      "text/html": [
       "<table>\n",
       "<thead><tr><th></th><th scope=col>Df</th><th scope=col>Deviance</th><th scope=col>Resid. Df</th><th scope=col>Resid. Dev</th><th scope=col>Pr(&gt;Chi)</th></tr></thead>\n",
       "<tbody>\n",
       "\t<tr><th scope=row>NULL</th><td>NA           </td><td>          NA </td><td>4923         </td><td>5702.760     </td><td>           NA</td></tr>\n",
       "\t<tr><th scope=row>gender</th><td> 1           </td><td>4.324613e-03 </td><td>4922         </td><td>5702.755     </td><td> 9.475675e-01</td></tr>\n",
       "\t<tr><th scope=row>SeniorCitizen</th><td> 1           </td><td>1.055026e+02 </td><td>4921         </td><td>5597.253     </td><td> 9.477119e-25</td></tr>\n",
       "\t<tr><th scope=row>Partner</th><td> 1           </td><td>1.224901e+02 </td><td>4920         </td><td>5474.763     </td><td> 1.803145e-28</td></tr>\n",
       "\t<tr><th scope=row>Dependents</th><td> 1           </td><td>2.779970e+01 </td><td>4919         </td><td>5446.963     </td><td> 1.345470e-07</td></tr>\n",
       "\t<tr><th scope=row>PhoneService</th><td> 1           </td><td>4.631058e-01 </td><td>4918         </td><td>5446.500     </td><td> 4.961760e-01</td></tr>\n",
       "\t<tr><th scope=row>MultipleLines</th><td> 1           </td><td>2.326991e+00 </td><td>4917         </td><td>5444.173     </td><td> 1.271474e-01</td></tr>\n",
       "\t<tr><th scope=row>InternetService</th><td> 2           </td><td>4.921668e+02 </td><td>4915         </td><td>4952.006     </td><td>1.340734e-107</td></tr>\n",
       "\t<tr><th scope=row>OnlineSecurity</th><td> 1           </td><td>1.687023e+02 </td><td>4914         </td><td>4783.304     </td><td> 1.421057e-38</td></tr>\n",
       "\t<tr><th scope=row>OnlineBackup</th><td> 1           </td><td>8.702979e+01 </td><td>4913         </td><td>4696.274     </td><td> 1.068986e-20</td></tr>\n",
       "\t<tr><th scope=row>DeviceProtection</th><td> 1           </td><td>6.118871e+01 </td><td>4912         </td><td>4635.085     </td><td> 5.185797e-15</td></tr>\n",
       "\t<tr><th scope=row>TechSupport</th><td> 1           </td><td>9.627141e+01 </td><td>4911         </td><td>4538.814     </td><td> 1.001663e-22</td></tr>\n",
       "\t<tr><th scope=row>StreamingTV</th><td> 1           </td><td>9.433184e-01 </td><td>4910         </td><td>4537.871     </td><td> 3.314259e-01</td></tr>\n",
       "\t<tr><th scope=row>StreamingMovies</th><td> 1           </td><td>4.831257e-01 </td><td>4909         </td><td>4537.387     </td><td> 4.870099e-01</td></tr>\n",
       "\t<tr><th scope=row>Contract</th><td> 2           </td><td>2.885831e+02 </td><td>4907         </td><td>4248.804     </td><td> 2.162579e-63</td></tr>\n",
       "\t<tr><th scope=row>PaperlessBilling</th><td> 1           </td><td>1.405545e+01 </td><td>4906         </td><td>4234.749     </td><td> 1.774988e-04</td></tr>\n",
       "\t<tr><th scope=row>PaymentMethod</th><td> 3           </td><td>4.523901e+01 </td><td>4903         </td><td>4189.510     </td><td> 8.231325e-10</td></tr>\n",
       "\t<tr><th scope=row>MonthlyCharges</th><td> 1           </td><td>7.343350e-01 </td><td>4902         </td><td>4188.776     </td><td> 3.914817e-01</td></tr>\n",
       "\t<tr><th scope=row>tenure_group</th><td> 4           </td><td>1.545962e+02 </td><td>4898         </td><td>4034.179     </td><td> 2.106784e-32</td></tr>\n",
       "</tbody>\n",
       "</table>\n"
      ],
      "text/latex": [
       "\\begin{tabular}{r|lllll}\n",
       "  & Df & Deviance & Resid. Df & Resid. Dev & Pr(>Chi)\\\\\n",
       "\\hline\n",
       "\tNULL & NA            &           NA  & 4923          & 5702.760      &            NA\\\\\n",
       "\tgender &  1            & 4.324613e-03  & 4922          & 5702.755      &  9.475675e-01\\\\\n",
       "\tSeniorCitizen &  1            & 1.055026e+02  & 4921          & 5597.253      &  9.477119e-25\\\\\n",
       "\tPartner &  1            & 1.224901e+02  & 4920          & 5474.763      &  1.803145e-28\\\\\n",
       "\tDependents &  1            & 2.779970e+01  & 4919          & 5446.963      &  1.345470e-07\\\\\n",
       "\tPhoneService &  1            & 4.631058e-01  & 4918          & 5446.500      &  4.961760e-01\\\\\n",
       "\tMultipleLines &  1            & 2.326991e+00  & 4917          & 5444.173      &  1.271474e-01\\\\\n",
       "\tInternetService &  2            & 4.921668e+02  & 4915          & 4952.006      & 1.340734e-107\\\\\n",
       "\tOnlineSecurity &  1            & 1.687023e+02  & 4914          & 4783.304      &  1.421057e-38\\\\\n",
       "\tOnlineBackup &  1            & 8.702979e+01  & 4913          & 4696.274      &  1.068986e-20\\\\\n",
       "\tDeviceProtection &  1            & 6.118871e+01  & 4912          & 4635.085      &  5.185797e-15\\\\\n",
       "\tTechSupport &  1            & 9.627141e+01  & 4911          & 4538.814      &  1.001663e-22\\\\\n",
       "\tStreamingTV &  1            & 9.433184e-01  & 4910          & 4537.871      &  3.314259e-01\\\\\n",
       "\tStreamingMovies &  1            & 4.831257e-01  & 4909          & 4537.387      &  4.870099e-01\\\\\n",
       "\tContract &  2            & 2.885831e+02  & 4907          & 4248.804      &  2.162579e-63\\\\\n",
       "\tPaperlessBilling &  1            & 1.405545e+01  & 4906          & 4234.749      &  1.774988e-04\\\\\n",
       "\tPaymentMethod &  3            & 4.523901e+01  & 4903          & 4189.510      &  8.231325e-10\\\\\n",
       "\tMonthlyCharges &  1            & 7.343350e-01  & 4902          & 4188.776      &  3.914817e-01\\\\\n",
       "\ttenure\\_group &  4            & 1.545962e+02  & 4898          & 4034.179      &  2.106784e-32\\\\\n",
       "\\end{tabular}\n"
      ],
      "text/markdown": [
       "\n",
       "| <!--/--> | Df | Deviance | Resid. Df | Resid. Dev | Pr(>Chi) |\n",
       "|---|---|---|---|---|---|\n",
       "| NULL | NA            |           NA  | 4923          | 5702.760      |            NA |\n",
       "| gender |  1            | 4.324613e-03  | 4922          | 5702.755      |  9.475675e-01 |\n",
       "| SeniorCitizen |  1            | 1.055026e+02  | 4921          | 5597.253      |  9.477119e-25 |\n",
       "| Partner |  1            | 1.224901e+02  | 4920          | 5474.763      |  1.803145e-28 |\n",
       "| Dependents |  1            | 2.779970e+01  | 4919          | 5446.963      |  1.345470e-07 |\n",
       "| PhoneService |  1            | 4.631058e-01  | 4918          | 5446.500      |  4.961760e-01 |\n",
       "| MultipleLines |  1            | 2.326991e+00  | 4917          | 5444.173      |  1.271474e-01 |\n",
       "| InternetService |  2            | 4.921668e+02  | 4915          | 4952.006      | 1.340734e-107 |\n",
       "| OnlineSecurity |  1            | 1.687023e+02  | 4914          | 4783.304      |  1.421057e-38 |\n",
       "| OnlineBackup |  1            | 8.702979e+01  | 4913          | 4696.274      |  1.068986e-20 |\n",
       "| DeviceProtection |  1            | 6.118871e+01  | 4912          | 4635.085      |  5.185797e-15 |\n",
       "| TechSupport |  1            | 9.627141e+01  | 4911          | 4538.814      |  1.001663e-22 |\n",
       "| StreamingTV |  1            | 9.433184e-01  | 4910          | 4537.871      |  3.314259e-01 |\n",
       "| StreamingMovies |  1            | 4.831257e-01  | 4909          | 4537.387      |  4.870099e-01 |\n",
       "| Contract |  2            | 2.885831e+02  | 4907          | 4248.804      |  2.162579e-63 |\n",
       "| PaperlessBilling |  1            | 1.405545e+01  | 4906          | 4234.749      |  1.774988e-04 |\n",
       "| PaymentMethod |  3            | 4.523901e+01  | 4903          | 4189.510      |  8.231325e-10 |\n",
       "| MonthlyCharges |  1            | 7.343350e-01  | 4902          | 4188.776      |  3.914817e-01 |\n",
       "| tenure_group |  4            | 1.545962e+02  | 4898          | 4034.179      |  2.106784e-32 |\n",
       "\n"
      ],
      "text/plain": [
       "                 Df Deviance     Resid. Df Resid. Dev Pr(>Chi)     \n",
       "NULL             NA           NA 4923      5702.760              NA\n",
       "gender            1 4.324613e-03 4922      5702.755    9.475675e-01\n",
       "SeniorCitizen     1 1.055026e+02 4921      5597.253    9.477119e-25\n",
       "Partner           1 1.224901e+02 4920      5474.763    1.803145e-28\n",
       "Dependents        1 2.779970e+01 4919      5446.963    1.345470e-07\n",
       "PhoneService      1 4.631058e-01 4918      5446.500    4.961760e-01\n",
       "MultipleLines     1 2.326991e+00 4917      5444.173    1.271474e-01\n",
       "InternetService   2 4.921668e+02 4915      4952.006   1.340734e-107\n",
       "OnlineSecurity    1 1.687023e+02 4914      4783.304    1.421057e-38\n",
       "OnlineBackup      1 8.702979e+01 4913      4696.274    1.068986e-20\n",
       "DeviceProtection  1 6.118871e+01 4912      4635.085    5.185797e-15\n",
       "TechSupport       1 9.627141e+01 4911      4538.814    1.001663e-22\n",
       "StreamingTV       1 9.433184e-01 4910      4537.871    3.314259e-01\n",
       "StreamingMovies   1 4.831257e-01 4909      4537.387    4.870099e-01\n",
       "Contract          2 2.885831e+02 4907      4248.804    2.162579e-63\n",
       "PaperlessBilling  1 1.405545e+01 4906      4234.749    1.774988e-04\n",
       "PaymentMethod     3 4.523901e+01 4903      4189.510    8.231325e-10\n",
       "MonthlyCharges    1 7.343350e-01 4902      4188.776    3.914817e-01\n",
       "tenure_group      4 1.545962e+02 4898      4034.179    2.106784e-32"
      ]
     },
     "metadata": {},
     "output_type": "display_data"
    }
   ],
   "source": [
    "# Os três principais recursos mais relevantes incluem \n",
    "# Contract, tenure_group e PaperlessBilling.\n",
    "anova(LogModel, test=\"Chisq\")"
   ]
  },
  {
   "cell_type": "code",
   "execution_count": 27,
   "metadata": {},
   "outputs": [
    {
     "name": "stdout",
     "output_type": "stream",
     "text": [
      "[1] \"Logistic Regression Accuracy 0.796015180265655\"\n"
     ]
    }
   ],
   "source": [
    "# Analisando a tabela de variância, podemos ver a queda no desvio ao adicionar cada variável \n",
    "# uma de cada vez. Adicionar InternetService, Contract e tenure_group reduz \n",
    "# significativamente o desvio residual. \n",
    "# As outras variáveis, como PaymentMethod e Dependents, parecem melhorar menos o modelo, \n",
    "# embora todos tenham valores p baixos.\n",
    "testing$Churn <- as.character(testing$Churn)\n",
    "testing$Churn[testing$Churn==\"No\"] <- \"0\"\n",
    "testing$Churn[testing$Churn==\"Yes\"] <- \"1\"\n",
    "fitted.results <- predict(LogModel,newdata=testing,type='response')\n",
    "fitted.results <- ifelse(fitted.results > 0.5,1,0)\n",
    "misClasificError <- mean(fitted.results != testing$Churn)\n",
    "print(paste('Logistic Regression Accuracy',1-misClasificError))"
   ]
  },
  {
   "cell_type": "code",
   "execution_count": 28,
   "metadata": {},
   "outputs": [
    {
     "name": "stdout",
     "output_type": "stream",
     "text": [
      "[1] \"Confusion Matrix Para Logistic Regression\"\n"
     ]
    },
    {
     "data": {
      "text/plain": [
       "   \n",
       "    FALSE TRUE\n",
       "  0  1386  162\n",
       "  1   268  292"
      ]
     },
     "metadata": {},
     "output_type": "display_data"
    }
   ],
   "source": [
    "# Matriz de Confusão de Regressão Logística\n",
    "print(\"Confusion Matrix Para Logistic Regression\"); table(testing$Churn, fitted.results > 0.5)"
   ]
  },
  {
   "cell_type": "markdown",
   "metadata": {},
   "source": [
    "# Odds Ratio"
   ]
  },
  {
   "cell_type": "code",
   "execution_count": 29,
   "metadata": {},
   "outputs": [
    {
     "name": "stderr",
     "output_type": "stream",
     "text": [
      "Waiting for profiling to be done...\n"
     ]
    },
    {
     "data": {
      "text/html": [
       "<table>\n",
       "<thead><tr><th></th><th scope=col>OR</th><th scope=col>2.5 %</th><th scope=col>97.5 %</th></tr></thead>\n",
       "<tbody>\n",
       "\t<tr><th scope=row>(Intercept)</th><td>0.2845275 </td><td>0.03949282</td><td> 2.0455196</td></tr>\n",
       "\t<tr><th scope=row>genderMale</th><td>1.0477989 </td><td>0.89883598</td><td> 1.2216016</td></tr>\n",
       "\t<tr><th scope=row>SeniorCitizenYes</th><td>1.2393557 </td><td>1.01538753</td><td> 1.5122991</td></tr>\n",
       "\t<tr><th scope=row>PartnerYes</th><td>0.9230994 </td><td>0.76856782</td><td> 1.1088196</td></tr>\n",
       "\t<tr><th scope=row>DependentsYes</th><td>0.9550202 </td><td>0.77255354</td><td> 1.1792182</td></tr>\n",
       "\t<tr><th scope=row>PhoneServiceYes</th><td>1.0493394 </td><td>0.22249706</td><td> 4.9548118</td></tr>\n",
       "\t<tr><th scope=row>MultipleLinesYes</th><td>1.5435378 </td><td>1.01435633</td><td> 2.3510166</td></tr>\n",
       "\t<tr><th scope=row>InternetServiceFiber optic</th><td>5.4998136 </td><td>0.82151222</td><td>37.0226084</td></tr>\n",
       "\t<tr><th scope=row>InternetServiceNo</th><td>0.1905077 </td><td>0.02765046</td><td> 1.3087917</td></tr>\n",
       "\t<tr><th scope=row>OnlineSecurityYes</th><td>0.7722943 </td><td>0.50573232</td><td> 1.1785589</td></tr>\n",
       "\t<tr><th scope=row>OnlineBackupYes</th><td>0.9926657 </td><td>0.65191828</td><td> 1.5115546</td></tr>\n",
       "\t<tr><th scope=row>DeviceProtectionYes</th><td>1.0729682 </td><td>0.70551241</td><td> 1.6321875</td></tr>\n",
       "\t<tr><th scope=row>TechSupportYes</th><td>0.7736853 </td><td>0.50267891</td><td> 1.1894693</td></tr>\n",
       "\t<tr><th scope=row>StreamingTVYes</th><td>1.7178448 </td><td>0.78638447</td><td> 3.7589087</td></tr>\n",
       "\t<tr><th scope=row>StreamingMoviesYes</th><td>1.7894199 </td><td>0.82142241</td><td> 3.9055727</td></tr>\n",
       "\t<tr><th scope=row>ContractOne year</th><td>0.4746245 </td><td>0.36829145</td><td> 0.6082642</td></tr>\n",
       "\t<tr><th scope=row>ContractTwo year</th><td>0.1945786 </td><td>0.12314991</td><td> 0.2984009</td></tr>\n",
       "\t<tr><th scope=row>PaperlessBillingYes</th><td>1.3984646 </td><td>1.17346055</td><td> 1.6677931</td></tr>\n",
       "\t<tr><th scope=row>PaymentMethodCredit card (automatic)</th><td>0.8709952 </td><td>0.66336697</td><td> 1.1426638</td></tr>\n",
       "\t<tr><th scope=row>PaymentMethodElectronic check</th><td>1.4524234 </td><td>1.16379967</td><td> 1.8159933</td></tr>\n",
       "\t<tr><th scope=row>PaymentMethodMailed check</th><td>1.0791175 </td><td>0.82491522</td><td> 1.4133187</td></tr>\n",
       "\t<tr><th scope=row>MonthlyCharges</th><td>0.9700015 </td><td>0.89914469</td><td> 1.0462925</td></tr>\n",
       "\t<tr><th scope=row>tenure_group0-12 Month</th><td>6.1740067 </td><td>4.10195824</td><td> 9.3808992</td></tr>\n",
       "\t<tr><th scope=row>tenure_group12-24 Month</th><td>2.9084285 </td><td>1.95309005</td><td> 4.3667040</td></tr>\n",
       "\t<tr><th scope=row>tenure_group24-48 Month</th><td>1.6513155 </td><td>1.14393580</td><td> 2.4044768</td></tr>\n",
       "\t<tr><th scope=row>tenure_group48-60 Month</th><td>1.3537598 </td><td>0.90795264</td><td> 2.0253482</td></tr>\n",
       "</tbody>\n",
       "</table>\n"
      ],
      "text/latex": [
       "\\begin{tabular}{r|lll}\n",
       "  & OR & 2.5 \\% & 97.5 \\%\\\\\n",
       "\\hline\n",
       "\t(Intercept) & 0.2845275  & 0.03949282 &  2.0455196\\\\\n",
       "\tgenderMale & 1.0477989  & 0.89883598 &  1.2216016\\\\\n",
       "\tSeniorCitizenYes & 1.2393557  & 1.01538753 &  1.5122991\\\\\n",
       "\tPartnerYes & 0.9230994  & 0.76856782 &  1.1088196\\\\\n",
       "\tDependentsYes & 0.9550202  & 0.77255354 &  1.1792182\\\\\n",
       "\tPhoneServiceYes & 1.0493394  & 0.22249706 &  4.9548118\\\\\n",
       "\tMultipleLinesYes & 1.5435378  & 1.01435633 &  2.3510166\\\\\n",
       "\tInternetServiceFiber optic & 5.4998136  & 0.82151222 & 37.0226084\\\\\n",
       "\tInternetServiceNo & 0.1905077  & 0.02765046 &  1.3087917\\\\\n",
       "\tOnlineSecurityYes & 0.7722943  & 0.50573232 &  1.1785589\\\\\n",
       "\tOnlineBackupYes & 0.9926657  & 0.65191828 &  1.5115546\\\\\n",
       "\tDeviceProtectionYes & 1.0729682  & 0.70551241 &  1.6321875\\\\\n",
       "\tTechSupportYes & 0.7736853  & 0.50267891 &  1.1894693\\\\\n",
       "\tStreamingTVYes & 1.7178448  & 0.78638447 &  3.7589087\\\\\n",
       "\tStreamingMoviesYes & 1.7894199  & 0.82142241 &  3.9055727\\\\\n",
       "\tContractOne year & 0.4746245  & 0.36829145 &  0.6082642\\\\\n",
       "\tContractTwo year & 0.1945786  & 0.12314991 &  0.2984009\\\\\n",
       "\tPaperlessBillingYes & 1.3984646  & 1.17346055 &  1.6677931\\\\\n",
       "\tPaymentMethodCredit card (automatic) & 0.8709952  & 0.66336697 &  1.1426638\\\\\n",
       "\tPaymentMethodElectronic check & 1.4524234  & 1.16379967 &  1.8159933\\\\\n",
       "\tPaymentMethodMailed check & 1.0791175  & 0.82491522 &  1.4133187\\\\\n",
       "\tMonthlyCharges & 0.9700015  & 0.89914469 &  1.0462925\\\\\n",
       "\ttenure\\_group0-12 Month & 6.1740067  & 4.10195824 &  9.3808992\\\\\n",
       "\ttenure\\_group12-24 Month & 2.9084285  & 1.95309005 &  4.3667040\\\\\n",
       "\ttenure\\_group24-48 Month & 1.6513155  & 1.14393580 &  2.4044768\\\\\n",
       "\ttenure\\_group48-60 Month & 1.3537598  & 0.90795264 &  2.0253482\\\\\n",
       "\\end{tabular}\n"
      ],
      "text/markdown": [
       "\n",
       "| <!--/--> | OR | 2.5 % | 97.5 % |\n",
       "|---|---|---|---|\n",
       "| (Intercept) | 0.2845275  | 0.03949282 |  2.0455196 |\n",
       "| genderMale | 1.0477989  | 0.89883598 |  1.2216016 |\n",
       "| SeniorCitizenYes | 1.2393557  | 1.01538753 |  1.5122991 |\n",
       "| PartnerYes | 0.9230994  | 0.76856782 |  1.1088196 |\n",
       "| DependentsYes | 0.9550202  | 0.77255354 |  1.1792182 |\n",
       "| PhoneServiceYes | 1.0493394  | 0.22249706 |  4.9548118 |\n",
       "| MultipleLinesYes | 1.5435378  | 1.01435633 |  2.3510166 |\n",
       "| InternetServiceFiber optic | 5.4998136  | 0.82151222 | 37.0226084 |\n",
       "| InternetServiceNo | 0.1905077  | 0.02765046 |  1.3087917 |\n",
       "| OnlineSecurityYes | 0.7722943  | 0.50573232 |  1.1785589 |\n",
       "| OnlineBackupYes | 0.9926657  | 0.65191828 |  1.5115546 |\n",
       "| DeviceProtectionYes | 1.0729682  | 0.70551241 |  1.6321875 |\n",
       "| TechSupportYes | 0.7736853  | 0.50267891 |  1.1894693 |\n",
       "| StreamingTVYes | 1.7178448  | 0.78638447 |  3.7589087 |\n",
       "| StreamingMoviesYes | 1.7894199  | 0.82142241 |  3.9055727 |\n",
       "| ContractOne year | 0.4746245  | 0.36829145 |  0.6082642 |\n",
       "| ContractTwo year | 0.1945786  | 0.12314991 |  0.2984009 |\n",
       "| PaperlessBillingYes | 1.3984646  | 1.17346055 |  1.6677931 |\n",
       "| PaymentMethodCredit card (automatic) | 0.8709952  | 0.66336697 |  1.1426638 |\n",
       "| PaymentMethodElectronic check | 1.4524234  | 1.16379967 |  1.8159933 |\n",
       "| PaymentMethodMailed check | 1.0791175  | 0.82491522 |  1.4133187 |\n",
       "| MonthlyCharges | 0.9700015  | 0.89914469 |  1.0462925 |\n",
       "| tenure_group0-12 Month | 6.1740067  | 4.10195824 |  9.3808992 |\n",
       "| tenure_group12-24 Month | 2.9084285  | 1.95309005 |  4.3667040 |\n",
       "| tenure_group24-48 Month | 1.6513155  | 1.14393580 |  2.4044768 |\n",
       "| tenure_group48-60 Month | 1.3537598  | 0.90795264 |  2.0253482 |\n",
       "\n"
      ],
      "text/plain": [
       "                                     OR        2.5 %      97.5 %    \n",
       "(Intercept)                          0.2845275 0.03949282  2.0455196\n",
       "genderMale                           1.0477989 0.89883598  1.2216016\n",
       "SeniorCitizenYes                     1.2393557 1.01538753  1.5122991\n",
       "PartnerYes                           0.9230994 0.76856782  1.1088196\n",
       "DependentsYes                        0.9550202 0.77255354  1.1792182\n",
       "PhoneServiceYes                      1.0493394 0.22249706  4.9548118\n",
       "MultipleLinesYes                     1.5435378 1.01435633  2.3510166\n",
       "InternetServiceFiber optic           5.4998136 0.82151222 37.0226084\n",
       "InternetServiceNo                    0.1905077 0.02765046  1.3087917\n",
       "OnlineSecurityYes                    0.7722943 0.50573232  1.1785589\n",
       "OnlineBackupYes                      0.9926657 0.65191828  1.5115546\n",
       "DeviceProtectionYes                  1.0729682 0.70551241  1.6321875\n",
       "TechSupportYes                       0.7736853 0.50267891  1.1894693\n",
       "StreamingTVYes                       1.7178448 0.78638447  3.7589087\n",
       "StreamingMoviesYes                   1.7894199 0.82142241  3.9055727\n",
       "ContractOne year                     0.4746245 0.36829145  0.6082642\n",
       "ContractTwo year                     0.1945786 0.12314991  0.2984009\n",
       "PaperlessBillingYes                  1.3984646 1.17346055  1.6677931\n",
       "PaymentMethodCredit card (automatic) 0.8709952 0.66336697  1.1426638\n",
       "PaymentMethodElectronic check        1.4524234 1.16379967  1.8159933\n",
       "PaymentMethodMailed check            1.0791175 0.82491522  1.4133187\n",
       "MonthlyCharges                       0.9700015 0.89914469  1.0462925\n",
       "tenure_group0-12 Month               6.1740067 4.10195824  9.3808992\n",
       "tenure_group12-24 Month              2.9084285 1.95309005  4.3667040\n",
       "tenure_group24-48 Month              1.6513155 1.14393580  2.4044768\n",
       "tenure_group48-60 Month              1.3537598 0.90795264  2.0253482"
      ]
     },
     "metadata": {},
     "output_type": "display_data"
    }
   ],
   "source": [
    "# Uma das medidas de desempenho interessantes na regressão logística é Odds Ratio. \n",
    "# Basicamente, odds ratio é a chance de um evento acontecer.\n",
    "exp(cbind(OR=coef(LogModel), confint(LogModel)))\n",
    "\n",
    "# Para cada aumento de unidade no encargo mensal (Monthly Charge), \n",
    "# há uma redução de 2,5% na probabilidade do cliente cancelar a assinatura."
   ]
  },
  {
   "cell_type": "markdown",
   "metadata": {},
   "source": [
    "# árvore de Decisão"
   ]
  },
  {
   "cell_type": "code",
   "execution_count": 30,
   "metadata": {},
   "outputs": [
    {
     "data": {
      "image/png": "[encoded data removed]",
      "text/plain": [
       "plot without title"
      ]
     },
     "metadata": {},
     "output_type": "display_data"
    }
   ],
   "source": [
    "# Visualização da árvore de Decisão\n",
    "# Para fins de ilustração, vamos usar apenas três variáveis para plotar \n",
    "# árvores de decisão, elas são \"Contrato\", \"tenure_group\" e \"PaperlessBilling\".\n",
    "tree <- ctree(Churn ~ Contract+tenure_group+PaperlessBilling, training)\n",
    "plot(tree, type='simple')\n",
    "\n",
    "# 1. Das três variáveis que usamos, o Contrato é a variável mais importante \n",
    "# para prever a rotatividade de clientes ou não.\n",
    "# 2. Se um cliente em um contrato de um ano ou de dois anos, \n",
    "# não importa se ele (ela) tem ou não a PapelessBilling, ele (ela) é menos propenso \n",
    "# a se cancelar a assinatura.\n",
    "# 3. Por outro lado, se um cliente estiver em um contrato mensal, \n",
    "# e no grupo de posse de 0 a 12 meses, e usando o PaperlessBilling, \n",
    "# esse cliente terá mais chances de cancelar a assinatura.\n"
   ]
  },
  {
   "cell_type": "code",
   "execution_count": 31,
   "metadata": {},
   "outputs": [
    {
     "name": "stdout",
     "output_type": "stream",
     "text": [
      "[1] \"Confusion Matrix Para Decision Tree\"\n"
     ]
    },
    {
     "data": {
      "text/plain": [
       "         Actual\n",
       "Predicted    0    1\n",
       "      No  1397  343\n",
       "      Yes  151  217"
      ]
     },
     "metadata": {},
     "output_type": "display_data"
    }
   ],
   "source": [
    "# Matriz de Confusão da árvore de Decisão\n",
    "# Estamos usando todas as variáveis para tabela de matriz de confusão de produto e fazer previsões.\n",
    "pred_tree <- predict(tree, testing)\n",
    "print(\"Confusion Matrix Para Decision Tree\"); table(Predicted = pred_tree, Actual = testing$Churn)"
   ]
  },
  {
   "cell_type": "code",
   "execution_count": 32,
   "metadata": {},
   "outputs": [
    {
     "name": "stdout",
     "output_type": "stream",
     "text": [
      "[1] \"Decision Tree Accuracy 0.765654648956357\"\n"
     ]
    }
   ],
   "source": [
    "# Precisão da árvore de decisão\n",
    "p1 <- predict(tree, training)\n",
    "tab1 <- table(Predicted = p1, Actual = training$Churn)\n",
    "tab2 <- table(Predicted = pred_tree, Actual = testing$Churn)\n",
    "print(paste('Decision Tree Accuracy',sum(diag(tab2))/sum(tab2)))"
   ]
  },
  {
   "cell_type": "markdown",
   "metadata": {},
   "source": [
    "##### Random Forest #####"
   ]
  },
  {
   "cell_type": "code",
   "execution_count": 33,
   "metadata": {},
   "outputs": [
    {
     "name": "stdout",
     "output_type": "stream",
     "text": [
      "\n",
      "Call:\n",
      " randomForest(formula = Churn ~ ., data = training) \n",
      "               Type of random forest: classification\n",
      "                     Number of trees: 500\n",
      "No. of variables tried at each split: 4\n",
      "\n",
      "        OOB estimate of  error rate: 21.36%\n",
      "Confusion matrix:\n",
      "      No Yes class.error\n",
      "No  3240 375   0.1037344\n",
      "Yes  677 632   0.5171887\n"
     ]
    },
    {
     "data": {
      "image/png": "[encoded data removed]",
      "text/plain": [
       "Plot with title \"rfModel\""
      ]
     },
     "metadata": {},
     "output_type": "display_data"
    }
   ],
   "source": [
    "rfModel <- randomForest(Churn ~ ., data = training)\n",
    "print(rfModel)\n",
    "plot(rfModel)\n",
    "\n",
    "# A previsão é muito boa ao prever \"Não\". \n",
    "# A taxa de erros é muito maior quando se prevê \"sim\"."
   ]
  },
  {
   "cell_type": "code",
   "execution_count": 34,
   "metadata": {},
   "outputs": [],
   "source": [
    "# Prevendo valores com dados de teste\n",
    "pred_rf <- predict(rfModel, testing)"
   ]
  },
  {
   "cell_type": "code",
   "execution_count": 35,
   "metadata": {},
   "outputs": [
    {
     "name": "stdout",
     "output_type": "stream",
     "text": [
      "[1] \"Confusion Matrix Para Random Forest\"\n"
     ]
    },
    {
     "data": {
      "text/plain": [
       "   pred_rf\n",
       "      No  Yes\n",
       "  0 1385  163\n",
       "  1  269  291"
      ]
     },
     "metadata": {},
     "output_type": "display_data"
    }
   ],
   "source": [
    "# Confusion Matrix\n",
    "print(\"Confusion Matrix Para Random Forest\"); table(testing$Churn, pred_rf)"
   ]
  },
  {
   "cell_type": "code",
   "execution_count": 36,
   "metadata": {},
   "outputs": [
    {
     "data": {
      "image/png": "[encoded data removed]",
      "text/plain": [
       "Plot with title \"Top 10 Feature Importance\""
      ]
     },
     "metadata": {},
     "output_type": "display_data"
    }
   ],
   "source": [
    "# Recursos mais importantes\n",
    "varImpPlot(rfModel, sort=T, n.var = 10, main = 'Top 10 Feature Importance')"
   ]
  }
 ],
 "metadata": {
  "kernelspec": {
   "display_name": "R",
   "language": "R",
   "name": "ir"
  },
  "language_info": {
   "codemirror_mode": "r",
   "file_extension": ".r",
   "mimetype": "text/x-r-source",
   "name": "R",
   "pygments_lexer": "r",
   "version": "3.6.1"
  }
 },
 "nbformat": 4,
 "nbformat_minor": 4
}
